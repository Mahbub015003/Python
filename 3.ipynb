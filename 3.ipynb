{
 "cells": [
  {
   "cell_type": "markdown",
   "metadata": {
    "collapsed": false
   },
   "source": [
    "3.Write a function called add_excitement that takes a list of strings and adds an exclamation point ( ! ) to the end of each string in the list. The program should modify the original list and not return anything."
   ]
  },
  {
   "cell_type": "code",
   "execution_count": 0,
   "metadata": {
    "collapsed": false
   },
   "outputs": [
   ],
   "source": [
    "def Add_Excitment(my_list):\n",
    "    i=0\n",
    "    while i<len(my_list):\n",
    "        my_list[i]=my_list[i]+'!' # for adding exclamation point(!) after each word\n",
    "        i=i+1\n",
    "a=input('How many lines do you want?') # taking input of lines fom user\n",
    "a=int(a)\n",
    "st_list=['s'] * a\n",
    "j=0\n",
    "while j<len(st_list):\n",
    "    st_list[j]=input('Enter your text:') #for taking input of words\n",
    "    j=j+1\n",
    "Add_Excitment(st_list)\n",
    "print(st_list)\n"
   ]
  }
 ],
 "metadata": {
  "kernelspec": {
   "display_name": "SageMath (stable)",
   "language": "sagemath",
   "name": "sagemath"
  },
  "language_info": {
   "codemirror_mode": {
    "name": "ipython",
    "version": 2
   },
   "file_extension": ".py",
   "mimetype": "text/x-python",
   "name": "python",
   "nbconvert_exporter": "python",
   "pygments_lexer": "ipython2",
   "version": "2.7.15"
  }
 },
 "nbformat": 4,
 "nbformat_minor": 0
}