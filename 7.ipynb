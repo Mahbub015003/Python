{
 "cells": [
  {
   "cell_type": "markdown",
   "metadata": {
    "collapsed": false
   },
   "source": [
    "7.Write a function called primes that is given a number n and returns a list of the first n primes. Let the default value of n be 100"
   ]
  },
  {
   "cell_type": "code",
   "execution_count": 0,
   "metadata": {
    "collapsed": false
   },
   "outputs": [
   ],
   "source": [
    "i=1\n",
    "x = int(input(\"Enter the number:\"))\n",
    "for k in range (1, (x+1), 1):\n",
    "    c=0\n",
    "    for j in range (1, (i+1), 1):\n",
    "        a = i%j\n",
    "        if (a==0):\n",
    "            c = c+1\n",
    "\n",
    "    if (c==2):\n",
    "          print (i)\n",
    "    else:\n",
    "          k = k-1\n",
    "    i=i+1\n"
   ]
  }
 ],
 "metadata": {
  "kernelspec": {
   "display_name": "SageMath (stable)",
   "language": "sagemath",
   "name": "sagemath"
  },
  "language_info": {
   "codemirror_mode": {
    "name": "ipython",
    "version": 2
   },
   "file_extension": ".py",
   "mimetype": "text/x-python",
   "name": "python",
   "nbconvert_exporter": "python",
   "pygments_lexer": "ipython2",
   "version": "2.7.15"
  }
 },
 "nbformat": 4,
 "nbformat_minor": 0
}