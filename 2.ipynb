{
 "cells": [
  {
   "cell_type": "markdown",
   "metadata": {
    "collapsed": false
   },
   "source": [
    "1.Write a function called rectangle that takes two integers m and n as arguments and prints out an m × n box consisting of asterisks"
   ]
  },
  {
   "cell_type": "code",
   "execution_count": 0,
   "metadata": {
    "collapsed": false
   },
   "outputs": [
   ],
   "source": [
    "column = int(input(\"Enter column size : \"))\n",
    "row = int(input(\"Enter row size : \"))\n",
    "print('* ' * column)\n",
    "print(('* ' + \"  \" * (column-2)+ '*'+'\\n')*(row -2) + ('* ' * column))\n",
    "\n",
    "\n",
    "m = 5\n",
    "n = 9\n",
    "for l in range(m):\n",
    "    if l % (m-1) == 0:\n",
    "        print('*' * n)\n",
    "    else:\n",
    "        print('*' +' ' * (n-2) + '*')\n",
    "\n",
    "\n",
    "def print_rect(row_count, col_count):\n",
    "   for row in range(row_count):\n",
    "      for col in range(col_count):\n",
    "         print \"*\",\n",
    "      print\n",
    "\n",
    "row_count = int(raw_input(\"How many rows of asterisks?\\n \"))\n",
    "col_count = int(raw_input(\"How many columns in each row?\\n\"))\n",
    "print_rect(row_count, col_count)\n"
   ]
  }
 ],
 "metadata": {
  "kernelspec": {
   "display_name": "SageMath (stable)",
   "language": "sagemath",
   "name": "sagemath"
  },
  "language_info": {
   "codemirror_mode": {
    "name": "ipython",
    "version": 2
   },
   "file_extension": ".py",
   "mimetype": "text/x-python",
   "name": "python",
   "nbconvert_exporter": "python",
   "pygments_lexer": "ipython2",
   "version": "2.7.15"
  }
 },
 "nbformat": 4,
 "nbformat_minor": 0
}